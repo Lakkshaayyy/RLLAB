{
  "nbformat": 4,
  "nbformat_minor": 0,
  "metadata": {
    "colab": {
      "provenance": [],
      "authorship_tag": "ABX9TyPSLW4sqBttOxVswZeIp32r",
      "include_colab_link": true
    },
    "kernelspec": {
      "name": "python3",
      "display_name": "Python 3"
    },
    "language_info": {
      "name": "python"
    }
  },
  "cells": [
    {
      "cell_type": "markdown",
      "metadata": {
        "id": "view-in-github",
        "colab_type": "text"
      },
      "source": [
        "<a href=\"https://colab.research.google.com/github/Lakkshaayyy/RLLAB/blob/main/lab01_test_.ipynb\" target=\"_parent\"><img src=\"https://colab.research.google.com/assets/colab-badge.svg\" alt=\"Open In Colab\"/></a>"
      ]
    },
    {
      "cell_type": "code",
      "execution_count": null,
      "metadata": {
        "id": "eZAUMc7tJWYl",
        "colab": {
          "base_uri": "https://localhost:8080/"
        },
        "outputId": "99d7263c-b0a3-4d2b-c1b6-9ab44c112c8d"
      },
      "outputs": [
        {
          "output_type": "stream",
          "name": "stdout",
          "text": [
            "Python 3.10.12\n"
          ]
        }
      ],
      "source": [
        "!python --version"
      ]
    },
    {
      "cell_type": "code",
      "source": [
        "x=3\n",
        "print(type(x))\n",
        "print (x)\n",
        "print ( x**2)"
      ],
      "metadata": {
        "colab": {
          "base_uri": "https://localhost:8080/"
        },
        "id": "_p-g3C04LwwR",
        "outputId": "e3a47f23-7738-4356-d6ad-be9381ed33ad"
      },
      "execution_count": null,
      "outputs": [
        {
          "output_type": "stream",
          "name": "stdout",
          "text": [
            "<class 'int'>\n",
            "3\n",
            "9\n"
          ]
        }
      ]
    },
    {
      "cell_type": "code",
      "source": [
        "t=True\n",
        "f=False\n",
        "print(type(t))\n",
        "print (t and f)\n",
        "print ( t or f)\n"
      ],
      "metadata": {
        "colab": {
          "base_uri": "https://localhost:8080/"
        },
        "id": "OYnsZHulLaK7",
        "outputId": "304cbbf3-5116-4eee-8931-186d6d0604dd"
      },
      "execution_count": null,
      "outputs": [
        {
          "output_type": "stream",
          "name": "stdout",
          "text": [
            "<class 'bool'>\n",
            "False\n",
            "True\n"
          ]
        }
      ]
    },
    {
      "cell_type": "markdown",
      "source": [
        "x=5\n",
        "y=10\n",
        "z= x+y\n",
        "str=(\"addition of {} and {} = {}\".format(x,y,z))\n",
        "print (str)"
      ],
      "metadata": {
        "id": "owbiYhvAL5kj"
      }
    },
    {
      "cell_type": "code",
      "source": [
        "x=5\n",
        "y=10\n",
        "z= x+y\n",
        "str=(\"addition of {} and {} = {}\".format(x,y,z))\n",
        "print (str)"
      ],
      "metadata": {
        "colab": {
          "base_uri": "https://localhost:8080/"
        },
        "id": "UVwGBZNAPGDS",
        "outputId": "62ad20b6-9ee0-4352-b920-60dfe4f91340"
      },
      "execution_count": null,
      "outputs": [
        {
          "output_type": "stream",
          "name": "stdout",
          "text": [
            "addition of 5 and 10 = 15\n"
          ]
        }
      ]
    },
    {
      "cell_type": "code",
      "source": [
        "List = [2,4,6]\n",
        "print(List, List[2])\n",
        "print(List[-1])\n",
        "List[2] = 'Lak'\n",
        "print(List)\n",
        "List.append('Hay')\n",
        "print(List)"
      ],
      "metadata": {
        "colab": {
          "base_uri": "https://localhost:8080/"
        },
        "id": "sN6YgOhIPITt",
        "outputId": "e4e5d630-a366-431d-c9fa-c9c0b8f99727"
      },
      "execution_count": null,
      "outputs": [
        {
          "output_type": "stream",
          "name": "stdout",
          "text": [
            "[2, 4, 6] 6\n",
            "6\n",
            "[2, 4, 'Lak']\n",
            "[2, 4, 'Lak', 'Hay']\n"
          ]
        }
      ]
    },
    {
      "cell_type": "code",
      "source": [
        "nums = list(range(10))\n",
        "print(nums)\n",
        "print(nums[4:6])\n",
        "print(nums[4:])\n",
        "print(nums[:6])\n",
        "print(nums[:])\n",
        "print(nums[:-3])\n",
        "nums[6:8] = [55, 59]\n",
        "nums[5:9] = [55,57]\n",
        "print(nums)"
      ],
      "metadata": {
        "colab": {
          "base_uri": "https://localhost:8080/"
        },
        "id": "923Ogo2RQDel",
        "outputId": "ef05adfb-bf4e-4fc3-cef8-28721a04d817"
      },
      "execution_count": null,
      "outputs": [
        {
          "output_type": "stream",
          "name": "stdout",
          "text": [
            "[0, 1, 2, 3, 4, 5, 6, 7, 8, 9]\n",
            "[4, 5]\n",
            "[4, 5, 6, 7, 8, 9]\n",
            "[0, 1, 2, 3, 4, 5]\n",
            "[0, 1, 2, 3, 4, 5, 6, 7, 8, 9]\n",
            "[0, 1, 2, 3, 4, 5, 6]\n",
            "[0, 1, 2, 3, 4, 55, 57, 9]\n"
          ]
        }
      ]
    },
    {
      "cell_type": "code",
      "source": [
        "Classmate = ['kunal', 'harsh', 'khushal']\n",
        "for x in Classmate:\n",
        "    print(Classmate)"
      ],
      "metadata": {
        "colab": {
          "base_uri": "https://localhost:8080/"
        },
        "id": "_THgkTZ5Rgy3",
        "outputId": "d068bbc7-6dbd-4acd-abef-387228159ac1"
      },
      "execution_count": null,
      "outputs": [
        {
          "output_type": "stream",
          "name": "stdout",
          "text": [
            "['kunal', 'harsh', 'khushal']\n",
            "['kunal', 'harsh', 'khushal']\n",
            "['kunal', 'harsh', 'khushal']\n"
          ]
        }
      ]
    },
    {
      "cell_type": "code",
      "source": [
        "Classmate = ['kunal', 'harsh', 'khushal']\n",
        "for x in Classmate:\n",
        "    print(x)"
      ],
      "metadata": {
        "colab": {
          "base_uri": "https://localhost:8080/"
        },
        "id": "kL-10KlURx0P",
        "outputId": "2df2e41c-52ea-49af-edf5-c03af54e8c9e"
      },
      "execution_count": null,
      "outputs": [
        {
          "output_type": "stream",
          "name": "stdout",
          "text": [
            "kunal\n",
            "harsh\n",
            "khushal\n"
          ]
        }
      ]
    },
    {
      "cell_type": "code",
      "source": [
        "Classmate = ['kunal', 'harsh', 'khushal']\n",
        "for idx, x in enumerate(Classmate):\n",
        "    print('*{}: {}'.format (idx + 1, x))"
      ],
      "metadata": {
        "colab": {
          "base_uri": "https://localhost:8080/"
        },
        "id": "xt7Zq8-sR8K6",
        "outputId": "e6b51538-4403-4081-b7b7-942754da0ea3"
      },
      "execution_count": null,
      "outputs": [
        {
          "output_type": "stream",
          "name": "stdout",
          "text": [
            "*1: kunal\n",
            "*2: harsh\n",
            "*3: khushal\n"
          ]
        }
      ]
    },
    {
      "cell_type": "code",
      "source": [
        "nums = list(range(6))\n",
        "squares = []\n",
        "for x in nums:\n",
        "    squares.append(x ** 2)\n",
        "print(squares)"
      ],
      "metadata": {
        "colab": {
          "base_uri": "https://localhost:8080/"
        },
        "id": "xd0ZPI-ASjBJ",
        "outputId": "26ca7884-b196-4064-da44-fd440c986b34"
      },
      "execution_count": null,
      "outputs": [
        {
          "output_type": "stream",
          "name": "stdout",
          "text": [
            "[0, 1, 4, 9, 16, 25]\n"
          ]
        }
      ]
    },
    {
      "cell_type": "code",
      "source": [
        "nums = list(range(6))\n",
        "squares = [x ** 2 for x in nums]\n",
        "print( squares)"
      ],
      "metadata": {
        "colab": {
          "base_uri": "https://localhost:8080/"
        },
        "id": "heIc9irUS4ZL",
        "outputId": "7162b1d3-9fac-41b9-e2a9-c9d44a4cc2d9"
      },
      "execution_count": null,
      "outputs": [
        {
          "output_type": "stream",
          "name": "stdout",
          "text": [
            "[0, 1, 4, 9, 16, 25]\n"
          ]
        }
      ]
    },
    {
      "cell_type": "code",
      "source": [
        "nums = list(range(6))\n",
        "even_squares = [x ** 2 for x in nums if x % 2 == 0]\n",
        "print(even_squares)"
      ],
      "metadata": {
        "colab": {
          "base_uri": "https://localhost:8080/"
        },
        "id": "N4IeWnIqTIKi",
        "outputId": "929ba8fa-2dc9-43c4-cdf2-a0f8a0eadc66"
      },
      "execution_count": null,
      "outputs": [
        {
          "output_type": "stream",
          "name": "stdout",
          "text": [
            "[0, 4, 16]\n"
          ]
        }
      ]
    },
    {
      "cell_type": "code",
      "source": [
        "def sign(x):\n",
        "    if x > 0:\n",
        "        return 'positive'\n",
        "    elif x < 0:\n",
        "        return 'negative'\n",
        "    else:\n",
        "        return 'zero'\n",
        "\n",
        "for x in [1, 0, -1]:\n",
        "    print(sign(x))"
      ],
      "metadata": {
        "colab": {
          "base_uri": "https://localhost:8080/"
        },
        "id": "obX4l6GfUMr6",
        "outputId": "fbbbcfb0-e40f-45e4-87c1-c1b6b3a34048"
      },
      "execution_count": null,
      "outputs": [
        {
          "output_type": "stream",
          "name": "stdout",
          "text": [
            "positive\n",
            "zero\n",
            "negative\n"
          ]
        }
      ]
    }
  ]
}