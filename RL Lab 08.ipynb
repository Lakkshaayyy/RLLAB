{
  "nbformat": 4,
  "nbformat_minor": 0,
  "metadata": {
    "colab": {
      "provenance": [],
      "authorship_tag": "ABX9TyNlODE2Gs8hScXTdAzCP4dq",
      "include_colab_link": true
    },
    "kernelspec": {
      "name": "python3",
      "display_name": "Python 3"
    },
    "language_info": {
      "name": "python"
    }
  },
  "cells": [
    {
      "cell_type": "markdown",
      "metadata": {
        "id": "view-in-github",
        "colab_type": "text"
      },
      "source": [
        "<a href=\"https://colab.research.google.com/github/Lakkshaayyy/RLLAB/blob/main/RL%20Lab%2008.ipynb\" target=\"_parent\"><img src=\"https://colab.research.google.com/assets/colab-badge.svg\" alt=\"Open In Colab\"/></a>"
      ]
    },
    {
      "cell_type": "code",
      "execution_count": null,
      "metadata": {
        "colab": {
          "base_uri": "https://localhost:8080/"
        },
        "id": "ceipsrIciMvz",
        "outputId": "692cd3d8-2f07-431f-d031-8c16ecda9b6e"
      },
      "outputs": [
        {
          "output_type": "stream",
          "name": "stdout",
          "text": [
            "[['R' 'R' 'R' '1']\n",
            " ['U' '0' 'U' '-1']\n",
            " ['U' 'R' 'U' 'L']]\n",
            "[[ 0.  0.  0.  1.]\n",
            " [ 0. inf  0. -1.]\n",
            " [ 0.  0.  0.  0.]]\n",
            "\n",
            "Iteration 0\n",
            "[[0.    0.    1.    0.   ]\n",
            " [0.    0.    0.9   0.   ]\n",
            " [0.    0.    0.81  0.729]]\n",
            "\n",
            "Delta 1.0\n",
            "\n",
            "Iteration 1\n",
            "[[0.    0.9   1.    0.   ]\n",
            " [0.    0.    0.9   0.   ]\n",
            " [0.    0.729 0.81  0.729]]\n",
            "\n",
            "Delta 0.9\n",
            "\n",
            "Iteration 2\n",
            "[[0.81   0.9    1.     0.    ]\n",
            " [0.729  0.     0.9    0.    ]\n",
            " [0.6561 0.729  0.81   0.729 ]]\n",
            "\n",
            "Delta 0.81\n",
            "\n",
            "Iteration 3\n",
            "[[0.81   0.9    1.     0.    ]\n",
            " [0.729  0.     0.9    0.    ]\n",
            " [0.6561 0.729  0.81   0.729 ]]\n",
            "\n",
            "Delta 0.0\n"
          ]
        }
      ],
      "source": [
        "import numpy as np\n",
        "import math\n",
        "\n",
        "\n",
        "grid=np.zeros((3,4))\n",
        "grid[1,1] = math.inf\n",
        "grid[0,3], grid[1,3] = 1, -1\n",
        "\n",
        "operation_grid = np.array([[\"R\",\"R\",\"R\",1],\n",
        "                         [\"U\",0,\"U\",-1],\n",
        "                         [\"U\",\"R\",\"U\",\"L\"]])\n",
        "\n",
        "g=0.9\n",
        "reward_next=0\n",
        "print(operation_grid)\n",
        "print(grid)\n",
        "old_grid=grid.copy()\n",
        "new_grid=np.zeros((3,4))\n",
        "grid_data=np.zeros((4,3,4))\n",
        "grid_data\n",
        "y=0\n",
        "delta=1\n",
        "while delta>0.3:\n",
        "    # new_grid=grid_data[y].copy()\n",
        "    diff_grid=new_grid.copy()\n",
        "    for i in range(0,3):\n",
        "        for j in range(0,4):\n",
        "            if(operation_grid[i][j]==\"R\"):\n",
        "                new_grid[i][j] = old_grid[i][j+1] + g*new_grid[i][j+1]\n",
        "            elif(operation_grid[i][j]==\"U\"):\n",
        "                new_grid[i][j] = old_grid[i-1][j] + g*new_grid[i-1][j]\n",
        "            elif(operation_grid[i][j]==\"L\"):\n",
        "                new_grid[i][j] = old_grid[i][j-1] + g*new_grid[i][j-1]\n",
        "            else:\n",
        "                continue\n",
        "        # old_grid=new_grid.copy()\n",
        "        # diff=np.array([])\n",
        "    sub_grid=np.subtract(new_grid,diff_grid)\n",
        "    delta=np.max(sub_grid)\n",
        "\n",
        "    print()\n",
        "    print(f\"Iteration {y}\")\n",
        "    print(new_grid)\n",
        "    print()\n",
        "    print(\"Delta\", delta)\n",
        "    # new_grid_2= np.newaxis(new_grid)\n",
        "    # grid_data=np.append(grid_data, new_grid, axis=0)\n",
        "    y=y+1"
      ]
    },
    {
      "cell_type": "code",
      "source": [
        "import numpy as np\n",
        "import math\n",
        "\n",
        "\n",
        "grid=np.zeros((3,4))\n",
        "grid[1,1] = math.inf\n",
        "grid[0,3], grid[1,3] = 1, -1\n",
        "\n",
        "operation_grid = np.array([[\"R\",\"R\",\"R\",1],\n",
        "                         [\"U\",0,\"D\",-1],\n",
        "                         [\"U\",\"R\",\"R\",\"U\"\n",
        "\n",
        "                         ]])\n",
        "\n",
        "g=0.9\n",
        "reward_next=0\n",
        "print(operation_grid)\n",
        "print(grid)\n",
        "old_grid=grid.copy()\n",
        "new_grid=np.zeros((3,4))\n",
        "grid_data=np.zeros((4,3,4))\n",
        "grid_data\n",
        "y=0\n",
        "delta=1\n",
        "while delta>0.3:\n",
        "    # new_grid=grid_data[y].copy()\n",
        "    diff_grid=new_grid.copy()\n",
        "    for i in range(0,3):\n",
        "        for j in range(0,4):\n",
        "            if(operation_grid[i][j]==\"R\"):\n",
        "                new_grid[i][j] = old_grid[i][j+1] + g*new_grid[i][j+1]\n",
        "            elif(operation_grid[i][j]==\"U\"):\n",
        "                new_grid[i][j] = old_grid[i-1][j] + g*new_grid[i-1][j]\n",
        "            elif(operation_grid[i][j]==\"L\"):\n",
        "                new_grid[i][j] = old_grid[i][j-1] + g*new_grid[i][j-1]\n",
        "            else:\n",
        "                continue\n",
        "        # old_grid=new_grid.copy()\n",
        "        # diff=np.array([])\n",
        "    sub_grid=np.subtract(new_grid,diff_grid)\n",
        "    delta=np.max(sub_grid)\n",
        "\n",
        "    print()\n",
        "    print(f\"Iteration {y}\")\n",
        "    print(new_grid)\n",
        "    print()\n",
        "    print(\"Delta\", delta)\n",
        "    # new_grid_2= np.newaxis(new_grid)\n",
        "    # grid_data=np.append(grid_data, new_grid, axis=0)\n",
        "    y=y+1"
      ],
      "metadata": {
        "colab": {
          "base_uri": "https://localhost:8080/"
        },
        "id": "3VMuWfOnjJJU",
        "outputId": "32fb9c7f-220b-4dc1-b9e0-84b8461902c7"
      },
      "execution_count": null,
      "outputs": [
        {
          "output_type": "stream",
          "name": "stdout",
          "text": [
            "[['R' 'R' 'R' '1']\n",
            " ['U' '0' 'D' '-1']\n",
            " ['U' 'R' 'R' 'U']]\n",
            "[[ 0.  0.  0.  1.]\n",
            " [ 0. inf  0. -1.]\n",
            " [ 0.  0.  0.  0.]]\n",
            "\n",
            "Iteration 0\n",
            "[[ 0.  0.  1.  0.]\n",
            " [ 0.  0.  0.  0.]\n",
            " [ 0.  0.  0. -1.]]\n",
            "\n",
            "Delta 1.0\n",
            "\n",
            "Iteration 1\n",
            "[[ 0.   0.9  1.   0. ]\n",
            " [ 0.   0.   0.   0. ]\n",
            " [ 0.   0.  -0.9 -1. ]]\n",
            "\n",
            "Delta 0.9\n",
            "\n",
            "Iteration 2\n",
            "[[ 0.81    0.9     1.      0.    ]\n",
            " [ 0.729   0.      0.      0.    ]\n",
            " [ 0.6561 -0.81   -0.9    -1.    ]]\n",
            "\n",
            "Delta 0.81\n",
            "\n",
            "Iteration 3\n",
            "[[ 0.81    0.9     1.      0.    ]\n",
            " [ 0.729   0.      0.      0.    ]\n",
            " [ 0.6561 -0.81   -0.9    -1.    ]]\n",
            "\n",
            "Delta 0.0\n"
          ]
        }
      ]
    }
  ]
}