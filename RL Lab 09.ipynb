{
  "nbformat": 4,
  "nbformat_minor": 0,
  "metadata": {
    "colab": {
      "provenance": [],
      "authorship_tag": "ABX9TyNmEtyuPstId3GmSP5AP9tX",
      "include_colab_link": true
    },
    "kernelspec": {
      "name": "python3",
      "display_name": "Python 3"
    },
    "language_info": {
      "name": "python"
    }
  },
  "cells": [
    {
      "cell_type": "markdown",
      "metadata": {
        "id": "view-in-github",
        "colab_type": "text"
      },
      "source": [
        "<a href=\"https://colab.research.google.com/github/Lakkshaayyy/RLLAB/blob/main/RL%20Lab%2009.ipynb\" target=\"_parent\"><img src=\"https://colab.research.google.com/assets/colab-badge.svg\" alt=\"Open In Colab\"/></a>"
      ]
    },
    {
      "cell_type": "markdown",
      "source": [
        "# ***First Visit***"
      ],
      "metadata": {
        "id": "eYrGDnXFBtCs"
      }
    },
    {
      "cell_type": "code",
      "execution_count": 1,
      "metadata": {
        "colab": {
          "base_uri": "https://localhost:8080/"
        },
        "id": "O4mHwdrUBrFb",
        "outputId": "86a86072-56aa-414c-a805-5c365d9d3280"
      },
      "outputs": [
        {
          "output_type": "stream",
          "name": "stdout",
          "text": [
            "{'A': 1.0, 'B': -2.5}\n"
          ]
        }
      ],
      "source": [
        "import numpy as np\n",
        "\n",
        "# Define the episode\n",
        "episodes = [\n",
        "    [('A', 3), ('A', 2), ('B', -4), ('A', 4), ('B', -3)],\n",
        "    [('B', -2), ('A', 3), ('B', -3)]\n",
        "    ]\n",
        "\n",
        "# Define the states\n",
        "states = ['A', 'B']\n",
        "\n",
        "# Initialize the value function\n",
        "V = {s: 0 for s in states}\n",
        "\n",
        "# Perform First-Visit Monte Carlo Policy Evaluation\n",
        "returns = {s: [] for s in states}\n",
        "\n",
        "for episode in episodes:\n",
        "    # Calculate returns and update the value function\n",
        "    G = 0\n",
        "    for t, (state, reward) in reversed(list(enumerate(episode))):\n",
        "        G = G + reward\n",
        "        if state not in [x[0] for x in episode[:t]]:\n",
        "            returns[state].append(G)\n",
        "            V[state] = np.mean(returns[state])\n",
        "\n",
        "# Print the value function\n",
        "print(V)"
      ]
    },
    {
      "cell_type": "markdown",
      "source": [
        "# ***Every Visit***"
      ],
      "metadata": {
        "id": "e1Vfuy8RB6-F"
      }
    },
    {
      "cell_type": "code",
      "source": [
        "import numpy as np\n",
        "\n",
        "# Define the episode\n",
        "episodes = [\n",
        "    [('A', 3), ('A', 2), ('B', -4), ('A', 4), ('B', -3)],\n",
        "    [('B', -2), ('A', 3), ('B', -3)]\n",
        "    ]\n",
        "\n",
        "# Define the states\n",
        "states = ['A', 'B']\n",
        "\n",
        "# Initialize the value function\n",
        "V = {s: 0 for s in states}\n",
        "\n",
        "# Perform Every-Visit Monte Carlo Policy Evaluation\n",
        "returns = {s: [] for s in states}\n",
        "\n",
        "for episode in episodes:\n",
        "    # Calculate returns and update the value function\n",
        "    G = 0\n",
        "    for t, (state, reward) in reversed(list(enumerate(episode))):\n",
        "        G = G + reward\n",
        "        # Removed the check for first visit\n",
        "        returns[state].append(G)\n",
        "        V[state] = np.mean(returns[state])\n",
        "\n",
        "# Print the value function\n",
        "print(V)"
      ],
      "metadata": {
        "colab": {
          "base_uri": "https://localhost:8080/"
        },
        "id": "2abvsCm3B-jY",
        "outputId": "368f146f-2ab3-4d3e-d602-213b4111000b"
      },
      "execution_count": 2,
      "outputs": [
        {
          "output_type": "stream",
          "name": "stdout",
          "text": [
            "{'A': 0.5, 'B': -2.75}\n"
          ]
        }
      ]
    }
  ]
}